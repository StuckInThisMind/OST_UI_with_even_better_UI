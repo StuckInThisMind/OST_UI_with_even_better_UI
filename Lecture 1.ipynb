{
 "cells": [
  {
   "cell_type": "code",
   "execution_count": 1,
   "id": "1e7d452b-9137-4609-8309-35a41617c306",
   "metadata": {},
   "outputs": [],
   "source": [
    "import numpy as np\n",
    "import matplotlib.pyplot as plt"
   ]
  },
  {
   "cell_type": "code",
   "execution_count": 6,
   "id": "0536b665-e03c-40bb-852e-48ba3d2ed44f",
   "metadata": {},
   "outputs": [],
   "source": [
    "A = np.array([1,2,3])\n",
    "B = np.array([4,5,6])"
   ]
  },
  {
   "cell_type": "code",
   "execution_count": 8,
   "id": "1d4447a8-a36d-4ac8-b6dc-5a067fe903f8",
   "metadata": {},
   "outputs": [
    {
     "name": "stdout",
     "output_type": "stream",
     "text": [
      "32\n"
     ]
    }
   ],
   "source": [
    "res_dot = np.dot(A,B)\n",
    "print(res_dot)"
   ]
  },
  {
   "cell_type": "code",
   "execution_count": 14,
   "id": "bbfa7933-0aa6-413d-9cfd-9da3afbb6947",
   "metadata": {},
   "outputs": [],
   "source": [
    "A = np.array([[2,3],[4,5]])\n",
    "B = np.array([[1,2],[3,4]])"
   ]
  },
  {
   "cell_type": "code",
   "execution_count": 15,
   "id": "6f1a0020-a682-43d2-9d05-110d525489a8",
   "metadata": {},
   "outputs": [
    {
     "name": "stdout",
     "output_type": "stream",
     "text": [
      "[[ 8 18]\n",
      " [14 32]]\n"
     ]
    }
   ],
   "source": [
    "res_inn = np.inner(A,B)\n",
    "print(res_inn)"
   ]
  },
  {
   "cell_type": "code",
   "execution_count": 16,
   "id": "7bbef361-3865-4788-870e-30e059089805",
   "metadata": {},
   "outputs": [
    {
     "name": "stdout",
     "output_type": "stream",
     "text": [
      "[[ 2  4  6  8]\n",
      " [ 3  6  9 12]\n",
      " [ 4  8 12 16]\n",
      " [ 5 10 15 20]]\n"
     ]
    }
   ],
   "source": [
    "res_out = np.outer(A,B)\n",
    "print(res_out)"
   ]
  },
  {
   "cell_type": "code",
   "execution_count": 17,
   "id": "36b10bdd-74e8-4798-ba91-ebc1a4a39cb8",
   "metadata": {},
   "outputs": [
    {
     "name": "stdout",
     "output_type": "stream",
     "text": [
      "-33.0\n"
     ]
    }
   ],
   "source": [
    "A = np.array([[1,7],[6,9]])\n",
    "print(np.linalg.det(A))"
   ]
  },
  {
   "cell_type": "code",
   "execution_count": 18,
   "id": "21f13a58-d8ac-43c8-86c2-1d44e52bbf27",
   "metadata": {},
   "outputs": [
    {
     "name": "stdout",
     "output_type": "stream",
     "text": [
      "[-2.    2.25]\n"
     ]
    }
   ],
   "source": [
    "A = np.array([[2,4],[6,8]])\n",
    "\n",
    "b = np.array([5,6])\n",
    "\n",
    "x = np.linalg.solve(A,b)\n",
    "\n",
    "print(x)"
   ]
  },
  {
   "cell_type": "code",
   "execution_count": 28,
   "id": "a5e95e5f-2c2a-4255-af3b-60f3d4cd0307",
   "metadata": {},
   "outputs": [
    {
     "name": "stdout",
     "output_type": "stream",
     "text": [
      "[46.4  8.5]\n"
     ]
    },
    {
     "name": "stderr",
     "output_type": "stream",
     "text": [
      "C:\\Users\\AAYUSH KOUL\\AppData\\Local\\Temp\\ipykernel_2680\\3975177780.py:5: FutureWarning: `rcond` parameter will change to the default of machine precision times ``max(M, N)`` where M and N are the input matrix dimensions.\n",
      "To use the future default and silence this warning we advise to pass `rcond=None`, to keep using the old, explicitly pass `rcond=-1`.\n",
      "  theta = np.linalg.lstsq(X,Y)[0]\n"
     ]
    }
   ],
   "source": [
    "X = np.array([[1,2],[1,3],[1,4],[1,5],[1,6]])\n",
    "\n",
    "Y = np.array([60,75,82,90,95])\n",
    "\n",
    "theta = np.linalg.lstsq(X,Y)[0]\n",
    "\n",
    "print(theta)"
   ]
  },
  {
   "cell_type": "code",
   "execution_count": null,
   "id": "7bb87abe-55e4-42b8-b999-c188094e8a7e",
   "metadata": {},
   "outputs": [],
   "source": []
  }
 ],
 "metadata": {
  "kernelspec": {
   "display_name": "Python 3 (ipykernel)",
   "language": "python",
   "name": "python3"
  },
  "language_info": {
   "codemirror_mode": {
    "name": "ipython",
    "version": 3
   },
   "file_extension": ".py",
   "mimetype": "text/x-python",
   "name": "python",
   "nbconvert_exporter": "python",
   "pygments_lexer": "ipython3",
   "version": "3.9.18"
  }
 },
 "nbformat": 4,
 "nbformat_minor": 5
}
